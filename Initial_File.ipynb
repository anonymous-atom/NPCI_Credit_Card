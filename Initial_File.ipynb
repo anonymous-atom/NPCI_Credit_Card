{
 "cells": [
  {
   "cell_type": "code",
   "execution_count": 65,
   "outputs": [],
   "source": [
    "#Importing the libraries\n",
    "import pandas as pd\n",
    "import numpy as np\n",
    "import matplotlib.pyplot as plt\n",
    "\n",
    "# Import necessary modules\n",
    "from sklearn.model_selection import train_test_split\n",
    "\n",
    "#Importing the dataset\n",
    "dataset_train = pd.read_csv('train.csv')\n",
    "dataset_test = pd.read_csv('test.csv')"
   ],
   "metadata": {
    "collapsed": false,
    "pycharm": {
     "name": "#%%\n"
    }
   }
  },
  {
   "cell_type": "code",
   "execution_count": 66,
   "outputs": [],
   "source": [
    "dataset_train.rename(columns={'default payment next month':'default'}, inplace=True)"
   ],
   "metadata": {
    "collapsed": false,
    "pycharm": {
     "name": "#%%\n"
    }
   }
  },
  {
   "cell_type": "code",
   "execution_count": 67,
   "outputs": [],
   "source": [
    "dataset_train.drop(['ID'], axis=1, inplace=True)"
   ],
   "metadata": {
    "collapsed": false,
    "pycharm": {
     "name": "#%%\n"
    }
   }
  },
  {
   "cell_type": "code",
   "execution_count": 68,
   "outputs": [
    {
     "data": {
      "text/plain": "       LIMIT_BAL  SEX  EDUCATION  MARRIAGE  AGE  PAY_0  PAY_2  PAY_3  PAY_4  \\\n0         100000    2          2         2   26     -1     -1     -1      0   \n1         100000    1          2         1   47      0      0      2      0   \n2          30000    2          2         2   23      3      3      3      3   \n3         280000    2          1         2   31      2     -1     -1     -2   \n4         210000    1          2         1   54      2     -1     -1     -1   \n...          ...  ...        ...       ...  ...    ...    ...    ...    ...   \n26995      50000    1          2         2   32      0      0      0      0   \n26996     200000    1          1         2   37      2      2      2      2   \n26997      50000    1          1         2   26     -2     -2     -2     -2   \n26998      70000    2          2         2   25      0      0      0      0   \n26999     160000    2          2         1   36     -2     -2     -2     -2   \n\n       PAY_5  ...  BILL_AMT4  BILL_AMT5  BILL_AMT6  PAY_AMT1  PAY_AMT2  \\\n0          0  ...       3542       1980       3980      4210      4159   \n1          0  ...      64287      67838      66135      7000         0   \n2          2  ...      29176      29958      30520      1200      1200   \n3         -2  ...          0          0          0       168         0   \n4         -1  ...        485        210       3483       176       195   \n...      ...  ...        ...        ...        ...       ...       ...   \n26995      0  ...      55957      29238       6119      2000      3000   \n26996      2  ...     164182     169029     172084     13500      6000   \n26997     -2  ...          0          0          0         0         0   \n26998      2  ...      35122      28633      28039      3000      2000   \n26999     -2  ...       2935       1603      14129         0      3660   \n\n       PAY_AMT3  PAY_AMT4  PAY_AMT5  PAY_AMT6  default  \n0          1000      1080      2000      1525        0  \n1          2500      5500         0      3000        0  \n2             0      1400      1200         0        1  \n3             0         0         0         0        0  \n4           485         0      4466       417        0  \n...         ...       ...       ...       ...      ...  \n26995      1591        72      1134     73421        0  \n26996         0      7500      6000      4000        1  \n26997         0         0         0         0        0  \n26998      4500      1200         0      1200        1  \n26999      3135      1650     14200      1500        1  \n\n[27000 rows x 24 columns]",
      "text/html": "<div>\n<style scoped>\n    .dataframe tbody tr th:only-of-type {\n        vertical-align: middle;\n    }\n\n    .dataframe tbody tr th {\n        vertical-align: top;\n    }\n\n    .dataframe thead th {\n        text-align: right;\n    }\n</style>\n<table border=\"1\" class=\"dataframe\">\n  <thead>\n    <tr style=\"text-align: right;\">\n      <th></th>\n      <th>LIMIT_BAL</th>\n      <th>SEX</th>\n      <th>EDUCATION</th>\n      <th>MARRIAGE</th>\n      <th>AGE</th>\n      <th>PAY_0</th>\n      <th>PAY_2</th>\n      <th>PAY_3</th>\n      <th>PAY_4</th>\n      <th>PAY_5</th>\n      <th>...</th>\n      <th>BILL_AMT4</th>\n      <th>BILL_AMT5</th>\n      <th>BILL_AMT6</th>\n      <th>PAY_AMT1</th>\n      <th>PAY_AMT2</th>\n      <th>PAY_AMT3</th>\n      <th>PAY_AMT4</th>\n      <th>PAY_AMT5</th>\n      <th>PAY_AMT6</th>\n      <th>default</th>\n    </tr>\n  </thead>\n  <tbody>\n    <tr>\n      <th>0</th>\n      <td>100000</td>\n      <td>2</td>\n      <td>2</td>\n      <td>2</td>\n      <td>26</td>\n      <td>-1</td>\n      <td>-1</td>\n      <td>-1</td>\n      <td>0</td>\n      <td>0</td>\n      <td>...</td>\n      <td>3542</td>\n      <td>1980</td>\n      <td>3980</td>\n      <td>4210</td>\n      <td>4159</td>\n      <td>1000</td>\n      <td>1080</td>\n      <td>2000</td>\n      <td>1525</td>\n      <td>0</td>\n    </tr>\n    <tr>\n      <th>1</th>\n      <td>100000</td>\n      <td>1</td>\n      <td>2</td>\n      <td>1</td>\n      <td>47</td>\n      <td>0</td>\n      <td>0</td>\n      <td>2</td>\n      <td>0</td>\n      <td>0</td>\n      <td>...</td>\n      <td>64287</td>\n      <td>67838</td>\n      <td>66135</td>\n      <td>7000</td>\n      <td>0</td>\n      <td>2500</td>\n      <td>5500</td>\n      <td>0</td>\n      <td>3000</td>\n      <td>0</td>\n    </tr>\n    <tr>\n      <th>2</th>\n      <td>30000</td>\n      <td>2</td>\n      <td>2</td>\n      <td>2</td>\n      <td>23</td>\n      <td>3</td>\n      <td>3</td>\n      <td>3</td>\n      <td>3</td>\n      <td>2</td>\n      <td>...</td>\n      <td>29176</td>\n      <td>29958</td>\n      <td>30520</td>\n      <td>1200</td>\n      <td>1200</td>\n      <td>0</td>\n      <td>1400</td>\n      <td>1200</td>\n      <td>0</td>\n      <td>1</td>\n    </tr>\n    <tr>\n      <th>3</th>\n      <td>280000</td>\n      <td>2</td>\n      <td>1</td>\n      <td>2</td>\n      <td>31</td>\n      <td>2</td>\n      <td>-1</td>\n      <td>-1</td>\n      <td>-2</td>\n      <td>-2</td>\n      <td>...</td>\n      <td>0</td>\n      <td>0</td>\n      <td>0</td>\n      <td>168</td>\n      <td>0</td>\n      <td>0</td>\n      <td>0</td>\n      <td>0</td>\n      <td>0</td>\n      <td>0</td>\n    </tr>\n    <tr>\n      <th>4</th>\n      <td>210000</td>\n      <td>1</td>\n      <td>2</td>\n      <td>1</td>\n      <td>54</td>\n      <td>2</td>\n      <td>-1</td>\n      <td>-1</td>\n      <td>-1</td>\n      <td>-1</td>\n      <td>...</td>\n      <td>485</td>\n      <td>210</td>\n      <td>3483</td>\n      <td>176</td>\n      <td>195</td>\n      <td>485</td>\n      <td>0</td>\n      <td>4466</td>\n      <td>417</td>\n      <td>0</td>\n    </tr>\n    <tr>\n      <th>...</th>\n      <td>...</td>\n      <td>...</td>\n      <td>...</td>\n      <td>...</td>\n      <td>...</td>\n      <td>...</td>\n      <td>...</td>\n      <td>...</td>\n      <td>...</td>\n      <td>...</td>\n      <td>...</td>\n      <td>...</td>\n      <td>...</td>\n      <td>...</td>\n      <td>...</td>\n      <td>...</td>\n      <td>...</td>\n      <td>...</td>\n      <td>...</td>\n      <td>...</td>\n      <td>...</td>\n    </tr>\n    <tr>\n      <th>26995</th>\n      <td>50000</td>\n      <td>1</td>\n      <td>2</td>\n      <td>2</td>\n      <td>32</td>\n      <td>0</td>\n      <td>0</td>\n      <td>0</td>\n      <td>0</td>\n      <td>0</td>\n      <td>...</td>\n      <td>55957</td>\n      <td>29238</td>\n      <td>6119</td>\n      <td>2000</td>\n      <td>3000</td>\n      <td>1591</td>\n      <td>72</td>\n      <td>1134</td>\n      <td>73421</td>\n      <td>0</td>\n    </tr>\n    <tr>\n      <th>26996</th>\n      <td>200000</td>\n      <td>1</td>\n      <td>1</td>\n      <td>2</td>\n      <td>37</td>\n      <td>2</td>\n      <td>2</td>\n      <td>2</td>\n      <td>2</td>\n      <td>2</td>\n      <td>...</td>\n      <td>164182</td>\n      <td>169029</td>\n      <td>172084</td>\n      <td>13500</td>\n      <td>6000</td>\n      <td>0</td>\n      <td>7500</td>\n      <td>6000</td>\n      <td>4000</td>\n      <td>1</td>\n    </tr>\n    <tr>\n      <th>26997</th>\n      <td>50000</td>\n      <td>1</td>\n      <td>1</td>\n      <td>2</td>\n      <td>26</td>\n      <td>-2</td>\n      <td>-2</td>\n      <td>-2</td>\n      <td>-2</td>\n      <td>-2</td>\n      <td>...</td>\n      <td>0</td>\n      <td>0</td>\n      <td>0</td>\n      <td>0</td>\n      <td>0</td>\n      <td>0</td>\n      <td>0</td>\n      <td>0</td>\n      <td>0</td>\n      <td>0</td>\n    </tr>\n    <tr>\n      <th>26998</th>\n      <td>70000</td>\n      <td>2</td>\n      <td>2</td>\n      <td>2</td>\n      <td>25</td>\n      <td>0</td>\n      <td>0</td>\n      <td>0</td>\n      <td>0</td>\n      <td>2</td>\n      <td>...</td>\n      <td>35122</td>\n      <td>28633</td>\n      <td>28039</td>\n      <td>3000</td>\n      <td>2000</td>\n      <td>4500</td>\n      <td>1200</td>\n      <td>0</td>\n      <td>1200</td>\n      <td>1</td>\n    </tr>\n    <tr>\n      <th>26999</th>\n      <td>160000</td>\n      <td>2</td>\n      <td>2</td>\n      <td>1</td>\n      <td>36</td>\n      <td>-2</td>\n      <td>-2</td>\n      <td>-2</td>\n      <td>-2</td>\n      <td>-2</td>\n      <td>...</td>\n      <td>2935</td>\n      <td>1603</td>\n      <td>14129</td>\n      <td>0</td>\n      <td>3660</td>\n      <td>3135</td>\n      <td>1650</td>\n      <td>14200</td>\n      <td>1500</td>\n      <td>1</td>\n    </tr>\n  </tbody>\n</table>\n<p>27000 rows × 24 columns</p>\n</div>"
     },
     "execution_count": 68,
     "metadata": {},
     "output_type": "execute_result"
    }
   ],
   "source": [
    "dataset_train"
   ],
   "metadata": {
    "collapsed": false,
    "pycharm": {
     "name": "#%%\n"
    }
   }
  },
  {
   "cell_type": "code",
   "execution_count": 69,
   "outputs": [],
   "source": [
    "y = dataset_train['default']\n",
    "features = dataset_train.drop(['default'], axis=1, inplace=False)"
   ],
   "metadata": {
    "collapsed": false,
    "pycharm": {
     "name": "#%%\n"
    }
   }
  },
  {
   "cell_type": "code",
   "execution_count": 70,
   "outputs": [
    {
     "data": {
      "text/plain": "array([2, 1, 3, 5, 4, 0, 6])"
     },
     "execution_count": 70,
     "metadata": {},
     "output_type": "execute_result"
    }
   ],
   "source": [
    "dataset_train['EDUCATION'].unique()"
   ],
   "metadata": {
    "collapsed": false,
    "pycharm": {
     "name": "#%%\n"
    }
   }
  },
  {
   "cell_type": "code",
   "execution_count": 71,
   "outputs": [],
   "source": [
    "dataset_train['EDUCATION']=np.where(dataset_train['EDUCATION'] == 5, 4, dataset_train['EDUCATION'])\n",
    "dataset_train['EDUCATION']=np.where(dataset_train['EDUCATION'] == 6, 4, dataset_train['EDUCATION'])\n",
    "dataset_train['EDUCATION']=np.where(dataset_train['EDUCATION'] == 0, 4, dataset_train['EDUCATION'])"
   ],
   "metadata": {
    "collapsed": false,
    "pycharm": {
     "name": "#%%\n"
    }
   }
  },
  {
   "cell_type": "code",
   "execution_count": 72,
   "outputs": [
    {
     "data": {
      "text/plain": "array([2, 1, 0, 3])"
     },
     "execution_count": 72,
     "metadata": {},
     "output_type": "execute_result"
    }
   ],
   "source": [
    "dataset_train['MARRIAGE'].unique()"
   ],
   "metadata": {
    "collapsed": false,
    "pycharm": {
     "name": "#%%\n"
    }
   }
  },
  {
   "cell_type": "code",
   "execution_count": 73,
   "outputs": [
    {
     "data": {
      "text/plain": "array([2, 1, 3])"
     },
     "execution_count": 73,
     "metadata": {},
     "output_type": "execute_result"
    }
   ],
   "source": [
    "dataset_train['MARRIAGE']=np.where(dataset_train['MARRIAGE'] == 0, 3, dataset_train['MARRIAGE'])\n",
    "dataset_train.MARRIAGE.unique()"
   ],
   "metadata": {
    "collapsed": false,
    "pycharm": {
     "name": "#%%\n"
    }
   }
  },
  {
   "cell_type": "code",
   "execution_count": 74,
   "outputs": [
    {
     "data": {
      "text/plain": "0    77.862963\n1    22.137037\nName: default, dtype: float64"
     },
     "execution_count": 74,
     "metadata": {},
     "output_type": "execute_result"
    }
   ],
   "source": [
    "( dataset_train['default'].value_counts() / len(dataset_train) ) * 100"
   ],
   "metadata": {
    "collapsed": false,
    "pycharm": {
     "name": "#%%\n"
    }
   }
  },
  {
   "cell_type": "code",
   "execution_count": 75,
   "outputs": [
    {
     "data": {
      "text/plain": "       LIMIT_BAL  SEX  EDUCATION  MARRIAGE  AGE  PAY_0  PAY_2  PAY_3  PAY_4  \\\n0         100000    2          2         2   26     -1     -1     -1      0   \n1         100000    1          2         1   47      0      0      2      0   \n2          30000    2          2         2   23      3      3      3      3   \n3         280000    2          1         2   31      2     -1     -1     -2   \n4         210000    1          2         1   54      2     -1     -1     -1   \n...          ...  ...        ...       ...  ...    ...    ...    ...    ...   \n26995      50000    1          2         2   32      0      0      0      0   \n26996     200000    1          1         2   37      2      2      2      2   \n26997      50000    1          1         2   26     -2     -2     -2     -2   \n26998      70000    2          2         2   25      0      0      0      0   \n26999     160000    2          2         1   36     -2     -2     -2     -2   \n\n       PAY_5  ...  BILL_AMT3  BILL_AMT4  BILL_AMT5  BILL_AMT6  PAY_AMT1  \\\n0          0  ...       4159       3542       1980       3980      4210   \n1          0  ...      69111      64287      67838      66135      7000   \n2          2  ...      29954      29176      29958      30520      1200   \n3         -2  ...          0          0          0          0       168   \n4         -1  ...        195        485        210       3483       176   \n...      ...  ...        ...        ...        ...        ...       ...   \n26995      0  ...      55739      55957      29238       6119      2000   \n26996      2  ...     168386     164182     169029     172084     13500   \n26997     -2  ...          0          0          0          0         0   \n26998      2  ...      51152      35122      28633      28039      3000   \n26999     -2  ...       3640       2935       1603      14129         0   \n\n       PAY_AMT2  PAY_AMT3  PAY_AMT4  PAY_AMT5  PAY_AMT6  \n0          4159      1000      1080      2000      1525  \n1             0      2500      5500         0      3000  \n2          1200         0      1400      1200         0  \n3             0         0         0         0         0  \n4           195       485         0      4466       417  \n...         ...       ...       ...       ...       ...  \n26995      3000      1591        72      1134     73421  \n26996      6000         0      7500      6000      4000  \n26997         0         0         0         0         0  \n26998      2000      4500      1200         0      1200  \n26999      3660      3135      1650     14200      1500  \n\n[27000 rows x 23 columns]",
      "text/html": "<div>\n<style scoped>\n    .dataframe tbody tr th:only-of-type {\n        vertical-align: middle;\n    }\n\n    .dataframe tbody tr th {\n        vertical-align: top;\n    }\n\n    .dataframe thead th {\n        text-align: right;\n    }\n</style>\n<table border=\"1\" class=\"dataframe\">\n  <thead>\n    <tr style=\"text-align: right;\">\n      <th></th>\n      <th>LIMIT_BAL</th>\n      <th>SEX</th>\n      <th>EDUCATION</th>\n      <th>MARRIAGE</th>\n      <th>AGE</th>\n      <th>PAY_0</th>\n      <th>PAY_2</th>\n      <th>PAY_3</th>\n      <th>PAY_4</th>\n      <th>PAY_5</th>\n      <th>...</th>\n      <th>BILL_AMT3</th>\n      <th>BILL_AMT4</th>\n      <th>BILL_AMT5</th>\n      <th>BILL_AMT6</th>\n      <th>PAY_AMT1</th>\n      <th>PAY_AMT2</th>\n      <th>PAY_AMT3</th>\n      <th>PAY_AMT4</th>\n      <th>PAY_AMT5</th>\n      <th>PAY_AMT6</th>\n    </tr>\n  </thead>\n  <tbody>\n    <tr>\n      <th>0</th>\n      <td>100000</td>\n      <td>2</td>\n      <td>2</td>\n      <td>2</td>\n      <td>26</td>\n      <td>-1</td>\n      <td>-1</td>\n      <td>-1</td>\n      <td>0</td>\n      <td>0</td>\n      <td>...</td>\n      <td>4159</td>\n      <td>3542</td>\n      <td>1980</td>\n      <td>3980</td>\n      <td>4210</td>\n      <td>4159</td>\n      <td>1000</td>\n      <td>1080</td>\n      <td>2000</td>\n      <td>1525</td>\n    </tr>\n    <tr>\n      <th>1</th>\n      <td>100000</td>\n      <td>1</td>\n      <td>2</td>\n      <td>1</td>\n      <td>47</td>\n      <td>0</td>\n      <td>0</td>\n      <td>2</td>\n      <td>0</td>\n      <td>0</td>\n      <td>...</td>\n      <td>69111</td>\n      <td>64287</td>\n      <td>67838</td>\n      <td>66135</td>\n      <td>7000</td>\n      <td>0</td>\n      <td>2500</td>\n      <td>5500</td>\n      <td>0</td>\n      <td>3000</td>\n    </tr>\n    <tr>\n      <th>2</th>\n      <td>30000</td>\n      <td>2</td>\n      <td>2</td>\n      <td>2</td>\n      <td>23</td>\n      <td>3</td>\n      <td>3</td>\n      <td>3</td>\n      <td>3</td>\n      <td>2</td>\n      <td>...</td>\n      <td>29954</td>\n      <td>29176</td>\n      <td>29958</td>\n      <td>30520</td>\n      <td>1200</td>\n      <td>1200</td>\n      <td>0</td>\n      <td>1400</td>\n      <td>1200</td>\n      <td>0</td>\n    </tr>\n    <tr>\n      <th>3</th>\n      <td>280000</td>\n      <td>2</td>\n      <td>1</td>\n      <td>2</td>\n      <td>31</td>\n      <td>2</td>\n      <td>-1</td>\n      <td>-1</td>\n      <td>-2</td>\n      <td>-2</td>\n      <td>...</td>\n      <td>0</td>\n      <td>0</td>\n      <td>0</td>\n      <td>0</td>\n      <td>168</td>\n      <td>0</td>\n      <td>0</td>\n      <td>0</td>\n      <td>0</td>\n      <td>0</td>\n    </tr>\n    <tr>\n      <th>4</th>\n      <td>210000</td>\n      <td>1</td>\n      <td>2</td>\n      <td>1</td>\n      <td>54</td>\n      <td>2</td>\n      <td>-1</td>\n      <td>-1</td>\n      <td>-1</td>\n      <td>-1</td>\n      <td>...</td>\n      <td>195</td>\n      <td>485</td>\n      <td>210</td>\n      <td>3483</td>\n      <td>176</td>\n      <td>195</td>\n      <td>485</td>\n      <td>0</td>\n      <td>4466</td>\n      <td>417</td>\n    </tr>\n    <tr>\n      <th>...</th>\n      <td>...</td>\n      <td>...</td>\n      <td>...</td>\n      <td>...</td>\n      <td>...</td>\n      <td>...</td>\n      <td>...</td>\n      <td>...</td>\n      <td>...</td>\n      <td>...</td>\n      <td>...</td>\n      <td>...</td>\n      <td>...</td>\n      <td>...</td>\n      <td>...</td>\n      <td>...</td>\n      <td>...</td>\n      <td>...</td>\n      <td>...</td>\n      <td>...</td>\n      <td>...</td>\n    </tr>\n    <tr>\n      <th>26995</th>\n      <td>50000</td>\n      <td>1</td>\n      <td>2</td>\n      <td>2</td>\n      <td>32</td>\n      <td>0</td>\n      <td>0</td>\n      <td>0</td>\n      <td>0</td>\n      <td>0</td>\n      <td>...</td>\n      <td>55739</td>\n      <td>55957</td>\n      <td>29238</td>\n      <td>6119</td>\n      <td>2000</td>\n      <td>3000</td>\n      <td>1591</td>\n      <td>72</td>\n      <td>1134</td>\n      <td>73421</td>\n    </tr>\n    <tr>\n      <th>26996</th>\n      <td>200000</td>\n      <td>1</td>\n      <td>1</td>\n      <td>2</td>\n      <td>37</td>\n      <td>2</td>\n      <td>2</td>\n      <td>2</td>\n      <td>2</td>\n      <td>2</td>\n      <td>...</td>\n      <td>168386</td>\n      <td>164182</td>\n      <td>169029</td>\n      <td>172084</td>\n      <td>13500</td>\n      <td>6000</td>\n      <td>0</td>\n      <td>7500</td>\n      <td>6000</td>\n      <td>4000</td>\n    </tr>\n    <tr>\n      <th>26997</th>\n      <td>50000</td>\n      <td>1</td>\n      <td>1</td>\n      <td>2</td>\n      <td>26</td>\n      <td>-2</td>\n      <td>-2</td>\n      <td>-2</td>\n      <td>-2</td>\n      <td>-2</td>\n      <td>...</td>\n      <td>0</td>\n      <td>0</td>\n      <td>0</td>\n      <td>0</td>\n      <td>0</td>\n      <td>0</td>\n      <td>0</td>\n      <td>0</td>\n      <td>0</td>\n      <td>0</td>\n    </tr>\n    <tr>\n      <th>26998</th>\n      <td>70000</td>\n      <td>2</td>\n      <td>2</td>\n      <td>2</td>\n      <td>25</td>\n      <td>0</td>\n      <td>0</td>\n      <td>0</td>\n      <td>0</td>\n      <td>2</td>\n      <td>...</td>\n      <td>51152</td>\n      <td>35122</td>\n      <td>28633</td>\n      <td>28039</td>\n      <td>3000</td>\n      <td>2000</td>\n      <td>4500</td>\n      <td>1200</td>\n      <td>0</td>\n      <td>1200</td>\n    </tr>\n    <tr>\n      <th>26999</th>\n      <td>160000</td>\n      <td>2</td>\n      <td>2</td>\n      <td>1</td>\n      <td>36</td>\n      <td>-2</td>\n      <td>-2</td>\n      <td>-2</td>\n      <td>-2</td>\n      <td>-2</td>\n      <td>...</td>\n      <td>3640</td>\n      <td>2935</td>\n      <td>1603</td>\n      <td>14129</td>\n      <td>0</td>\n      <td>3660</td>\n      <td>3135</td>\n      <td>1650</td>\n      <td>14200</td>\n      <td>1500</td>\n    </tr>\n  </tbody>\n</table>\n<p>27000 rows × 23 columns</p>\n</div>"
     },
     "execution_count": 75,
     "metadata": {},
     "output_type": "execute_result"
    }
   ],
   "source": [
    "features"
   ],
   "metadata": {
    "collapsed": false,
    "pycharm": {
     "name": "#%%\n"
    }
   }
  },
  {
   "cell_type": "code",
   "execution_count": 76,
   "outputs": [],
   "source": [
    "stdX = (features - features.mean()) / (features.std())              # standardization\n",
    "\n",
    "X = dataset_train.drop(['default'], axis=1, inplace=False)\n",
    "y = dataset_train['default']\n",
    "\n",
    "X_train, X_test, y_train, y_test = train_test_split(X, y, test_size=0.2, random_state=42)\n",
    "Xstd_train, Xstd_test, ystd_train, ystd_test = train_test_split(stdX, y, test_size=0.2, random_state=42)"
   ],
   "metadata": {
    "collapsed": false,
    "pycharm": {
     "name": "#%%\n"
    }
   }
  },
  {
   "cell_type": "code",
   "execution_count": 77,
   "outputs": [
    {
     "name": "stdout",
     "output_type": "stream",
     "text": [
      "Tuned Random Forest Parameters: {'n_estimators': 150, 'max_features': 5, 'max_depth': 6, 'criterion': 'gini'}\n"
     ]
    }
   ],
   "source": [
    "from sklearn.model_selection import RandomizedSearchCV  # Randomized search on hyper parameters.\n",
    "from sklearn.ensemble import RandomForestClassifier\n",
    "param_dist = {'n_estimators': [50,100,150,200,250],\n",
    "               \"max_features\": [1,2,3,4,5,6,7,8,9],\n",
    "               'max_depth': [1,2,3,4,5,6,7,8,9],\n",
    "               \"criterion\": [\"gini\", \"entropy\"]}\n",
    "\n",
    "rf = RandomForestClassifier()\n",
    "\n",
    "rf_cv = RandomizedSearchCV(rf, param_distributions = param_dist,\n",
    "                           cv = 5, random_state=0, n_jobs = -1)\n",
    "\n",
    "rf_cv.fit(X, y)\n",
    "\n",
    "print(\"Tuned Random Forest Parameters: %s\" % (rf_cv.best_params_))"
   ],
   "metadata": {
    "collapsed": false,
    "pycharm": {
     "name": "#%%\n"
    }
   }
  },
  {
   "cell_type": "code",
   "execution_count": 98,
   "outputs": [
    {
     "name": "stdout",
     "output_type": "stream",
     "text": [
      "Accuracy: 0.8255555555555556\n",
      "\n",
      "              precision    recall  f1-score   support\n",
      "\n",
      "           0       0.84      0.96      0.90      4229\n",
      "           1       0.69      0.35      0.47      1171\n",
      "\n",
      "    accuracy                           0.83      5400\n",
      "   macro avg       0.77      0.65      0.68      5400\n",
      "weighted avg       0.81      0.83      0.80      5400\n",
      "\n",
      "\n",
      "Average 5-Fold CV Score: 0.8198 , Standard deviation: 0.0044\n"
     ]
    },
    {
     "data": {
      "text/plain": "<Figure size 400x300 with 2 Axes>",
      "image/png": "[encoded data removed]"
     },
     "metadata": {},
     "output_type": "display_data"
    }
   ],
   "source": [
    "#Random forest starts here\n",
    "from sklearn.ensemble import RandomForestClassifier\n",
    "from sklearn.model_selection import cross_val_score\n",
    "from sklearn.metrics import classification_report\n",
    "from sklearn.metrics import confusion_matrix\n",
    "from sklearn import metrics\n",
    "import seaborn as sns\n",
    "Ran = RandomForestClassifier(criterion= 'gini', max_depth= 10,\n",
    "                                     max_features= 16, n_estimators= 200,\n",
    "                                     random_state=0)\n",
    "Ran.fit(X_train, y_train)\n",
    "y_pred = Ran.predict(X_test)\n",
    "print('Accuracy:', metrics.accuracy_score(y_pred,y_test))\n",
    "\n",
    "## 5-fold cross-validation\n",
    "cv_scores =cross_val_score(Ran, X, y, cv=5)\n",
    "\n",
    "# Print the 5-fold cross-validation scores\n",
    "print()\n",
    "print(classification_report(y_test, y_pred))\n",
    "print()\n",
    "print(\"Average 5-Fold CV Score: {}\".format(round(np.mean(cv_scores),4)),\n",
    "      \", Standard deviation: {}\".format(round(np.std(cv_scores),4)))\n",
    "\n",
    "plt.figure(figsize=(4,3))\n",
    "ConfMatrix = confusion_matrix(y_test,Ran.predict(X_test))\n",
    "sns.heatmap(ConfMatrix,annot=True, cmap=\"Blues\", fmt=\"d\",\n",
    "            xticklabels = ['Non-default', 'Default'],\n",
    "            yticklabels = ['Non-default', 'Default'])\n",
    "plt.ylabel('True label')\n",
    "plt.xlabel('Predicted label')\n",
    "plt.title(\"Confusion Matrix - Random Forest\");"
   ],
   "metadata": {
    "collapsed": false,
    "pycharm": {
     "name": "#%%\n"
    }
   }
  },
  {
   "cell_type": "code",
   "execution_count": 96,
   "outputs": [],
   "source": [
    "#Use model on test.csv and save as submission.csv with 2 columns: ID and default.payment.next.month\n",
    "dataset_final_test = pd.read_csv('test.csv')\n",
    "#Rename column\n",
    "dataset_final_test.rename(columns={'ID   ':'ID'}, inplace=True)\n",
    "#Predict output and store in a new column\n",
    "dataset_final_test['default'] = Ran.predict(dataset_final_test.drop(['ID'], axis=1, inplace=False))\n",
    "#Save as submission.csv\n",
    "dataset_final_test[['ID','default']].to_csv('submission_out.csv', index=False)"
   ],
   "metadata": {
    "collapsed": false,
    "pycharm": {
     "name": "#%%\n"
    }
   }
  },
  {
   "cell_type": "code",
   "execution_count": null,
   "outputs": [],
   "source": [],
   "metadata": {
    "collapsed": false,
    "pycharm": {
     "name": "#%%\n"
    }
   }
  }
 ],
 "metadata": {
  "kernelspec": {
   "display_name": "Python 3 (ipykernel)",
   "language": "python",
   "name": "python3"
  },
  "language_info": {
   "codemirror_mode": {
    "name": "ipython",
    "version": 3
   },
   "file_extension": ".py",
   "mimetype": "text/x-python",
   "name": "python",
   "nbconvert_exporter": "python",
   "pygments_lexer": "ipython3",
   "version": "3.10.6"
  }
 },
 "nbformat": 4,
 "nbformat_minor": 1
}